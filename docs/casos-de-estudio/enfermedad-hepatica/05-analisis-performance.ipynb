{
 "cells": [
  {
   "cell_type": "markdown",
   "metadata": {},
   "source": [
    "# Análisis de Performance\n",
    "\n",
    "En la evaluación de los modelos de aprendizaje automático, es crucial realizar un análisis de rendimiento para comprender cómo se desempeñan en la tarea de clasificación. Esto implica medir su capacidad para hacer predicciones precisas y evaluar su eficacia en la resolución del problema en cuestión. A continuación, se detalla el análisis de rendimiento realizado en este caso de estudio:\n",
    "\n",
    "## Rendimiento\n",
    "\n",
    "Una vez hechas las predicciones en varios modelos, ahora vamos a evaluar la precisión de cada uno y así comparar cuál funcionó mejor. "
   ]
  },
  {
   "cell_type": "code",
   "execution_count": null,
   "metadata": {},
   "outputs": [],
   "source": [
    "model_performance = pd.DataFrame({\n",
    "    'Model': ['Logistic Regression', 'K-Nearest Neighbors', 'Gaussian Naïve Bayes'],\n",
    "    'Accuracy': [acc_logreg, acc_knn, acc_gnb]\n",
    "})\n",
    "\n",
    "model_performance.sort_values(by='Accuracy', ascending=False)"
   ]
  },
  {
   "cell_type": "raw",
   "metadata": {
    "vscode": {
     "languageId": "powershell"
    }
   },
   "source": [
    "              \t  Model  Accuracy\n",
    "0   Logistic Regression  0.729730\n",
    "1   K-Nearest Neighbors  0.720721\n",
    "2  Gaussian Naïve Bayes  0.698198"
   ]
  },
  {
   "cell_type": "markdown",
   "metadata": {},
   "source": [
    "## Curvas ROC\n",
    "\n",
    "La curva ROC es una herramienta esencial para evaluar el rendimiento de modelos de clasificación binaria. Muestra la relación entre la tasa de verdaderos positivos y la tasa de falsos positivos a medida que varía el umbral de decisión del modelo. \n",
    "\n",
    "Para eso generamos los gráficos correspondientes a cada modelo.\n",
    "\n",
    "### Regresión Logística"
   ]
  },
  {
   "cell_type": "code",
   "execution_count": null,
   "metadata": {},
   "outputs": [],
   "source": [
    "fpr_logreg_clf, tpr_logreg_clf, thresholds_logreg_clf = roc_curve(test_y, logreg_clf.predict_proba(test_X)[:, 1])\n",
    "\n",
    "plt.figure(figsize=(8, 6))\n",
    "plt.plot(fpr_logreg_clf, tpr_logreg_clf, label='ROC Curve (Logistic Regression)')\n",
    "plt.xlabel('False Positives Rate (FPR)')\n",
    "plt.ylabel('True Positives Rate (TPR)')\n",
    "plt.legend()\n",
    "plt.show()"
   ]
  },
  {
   "cell_type": "markdown",
   "metadata": {},
   "source": [
    "![Evaluación Regresión Logística](../images/liver_roc_logreg.jpg)"
   ]
  },
  {
   "cell_type": "markdown",
   "metadata": {},
   "source": [
    "### k-Nearest Neighbors"
   ]
  },
  {
   "cell_type": "code",
   "execution_count": null,
   "metadata": {},
   "outputs": [],
   "source": [
    "fpr_knn_clf, tpr_knn_clf, thresholds_knn_clf = roc_curve(test_y, knn_clf.predict_proba(test_X)[:, 1])\n",
    "\n",
    "plt.figure(figsize=(8, 6))\n",
    "plt.plot(fpr_knn_clf, tpr_knn_clf, label='ROC Curve (K-Nearest Neighbors)')\n",
    "plt.xlabel('False Positives Rate (FPR)')\n",
    "plt.ylabel('True Positives Rate (TPR)')\n",
    "plt.legend()\n",
    "plt.show()"
   ]
  },
  {
   "cell_type": "markdown",
   "metadata": {},
   "source": [
    "![Evaluación k-Nearest Neighbors](../images/liver_roc_knn.jpg)"
   ]
  },
  {
   "cell_type": "markdown",
   "metadata": {},
   "source": [
    "### Naïve Bayes"
   ]
  },
  {
   "cell_type": "code",
   "execution_count": null,
   "metadata": {},
   "outputs": [
    {
     "ename": "",
     "evalue": "",
     "output_type": "error",
     "traceback": [
      "\u001b[1;31mRunning cells with 'c:\\Users\\Maximiliano Benítez\\AppData\\Local\\Programs\\Python\\Python311\\python.exe' requires the ipykernel package.\n",
      "\u001b[1;31mRun the following command to install 'ipykernel' into the Python environment. \n",
      "\u001b[1;31mCommand: '\"c:/Users/Maximiliano Benítez/AppData/Local/Programs/Python/Python311/python.exe\" -m pip install ipykernel -U --user --force-reinstall'"
     ]
    }
   ],
   "source": [
    "fpr_gnb_clf, tpr_gnb_clf, thresholds_gnb_clf = roc_curve(test_y, gnb_clf.predict_proba(test_X)[:, 1])\n",
    "\n",
    "plt.figure(figsize=(8, 6))\n",
    "plt.plot(fpr_gnb_clf, tpr_gnb_clf, label='ROC Curve (Gaussian Naïve Bayes)')\n",
    "plt.xlabel('False Positives Rate (FPR)')\n",
    "plt.ylabel('True Positives Rate (TPR)')\n",
    "plt.legend()\n",
    "plt.show()"
   ]
  },
  {
   "cell_type": "markdown",
   "metadata": {},
   "source": [
    "![Evaluación Naïve Bayes](../images/liver_roc_gnb.jpg)\n",
    "\n",
    "El análisis de rendimiento y las curvas ROC son componentes esenciales para comprender cómo se comportan los modelos de clasificación en términos de sus tasas de aciertos y errores. Estas métricas y gráficos proporcionan información valiosa para tomar decisiones informadas sobre la selección y ajuste de modelos y para evaluar su idoneidad para la tarea de clasificación en cuestión."
   ]
  }
 ],
 "metadata": {
  "kernelspec": {
   "display_name": "Python 3",
   "language": "python",
   "name": "python3"
  },
  "language_info": {
   "name": "python",
   "version": "3.11.4"
  },
  "orig_nbformat": 4
 },
 "nbformat": 4,
 "nbformat_minor": 2
}
