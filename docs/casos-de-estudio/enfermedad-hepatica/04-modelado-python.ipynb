{
 "cells": [
  {
   "cell_type": "markdown",
   "metadata": {},
   "source": [
    "# Modelos Aplicados\n",
    "\n",
    "En el proceso de desarrollo de un sistema de aprendizaje automático, se exploraron y aplicaron varios modelos para abordar la tarea de clasificación. Cada uno de estos modelos tiene sus propias características y suposiciones fundamentales. A continuación, se describen los modelos aplicados en este caso de estudio:\n",
    "\n",
    "## Regresión Logística\n",
    "\n",
    "La regresión logística es un modelo de clasificación ampliamente utilizado que se adapta a problemas de clasificación binaria. Este modelo se basa en la función logística para estimar la probabilidad de pertenencia a una de las dos clases."
   ]
  },
  {
   "cell_type": "code",
   "execution_count": null,
   "metadata": {},
   "outputs": [],
   "source": [
    "logreg_clf = LogisticRegression(max_iter=1000)\n",
    "\n",
    "logreg_clf.fit(train_X, train_y)\n",
    "pred_logreg = logreg_clf.predict(test_X)\n",
    "acc_logreg = accuracy_score(test_y, pred_logreg)\n",
    "\n",
    "print('The Score for Logistic Regression is: ' + str(acc_logreg))"
   ]
  },
  {
   "cell_type": "markdown",
   "metadata": {},
   "source": [
    "The Score for Logistic Regression is: 0.7297297297297297"
   ]
  },
  {
   "cell_type": "markdown",
   "metadata": {},
   "source": [
    "## k-Nearest Neighbors\n",
    "\n",
    "El algoritmo k-NN es un enfoque de aprendizaje supervisado que se basa en la idea de que las instancias similares tienden a pertenecer a la misma clase. En este método, un punto se clasifica según la mayoría de votos de sus \"k\" vecinos más cercanos. El valor de \"k\" se elige de acuerdo con la naturaleza del problema y puede variar. El k-NN es una opción versátil y eficaz para tareas de clasificación."
   ]
  },
  {
   "cell_type": "code",
   "execution_count": null,
   "metadata": {},
   "outputs": [],
   "source": [
    "knn_clf = KNeighborsClassifier()\n",
    "\n",
    "knn_clf.fit(train_X, train_y)\n",
    "pred_knn = knn_clf.predict(test_X)\n",
    "acc_knn = accuracy_score(test_y, pred_knn)\n",
    "\n",
    "print('The Score for KNeighbors is: ' + str(acc_knn))"
   ]
  },
  {
   "cell_type": "markdown",
   "metadata": {},
   "source": [
    "The Score for KNeighbors is: 0.7207207207207207"
   ]
  },
  {
   "cell_type": "markdown",
   "metadata": {},
   "source": [
    "## Naïve Bayes\n",
    "\n",
    "El clasificador Naïve Bayes se basa en el teorema de Bayes y asume independencia condicional entre las características. Calcula la probabilidad de pertenencia a una clase dada para un conjunto de características observadas."
   ]
  },
  {
   "cell_type": "code",
   "execution_count": null,
   "metadata": {},
   "outputs": [],
   "source": [
    "gnb_clf = GaussianNB()\n",
    "\n",
    "gnb_clf.fit(train_X, train_y)\n",
    "pred_gnb = gnb_clf.predict(test_X)\n",
    "acc_gnb = accuracy_score(test_y, pred_gnb)\n",
    "\n",
    "print('The Score for Gaussian NB is: ' + str(acc_gnb))"
   ]
  },
  {
   "cell_type": "markdown",
   "metadata": {},
   "source": [
    "The Score for Gaussian NB is: 0.6981981981981982"
   ]
  }
 ],
 "metadata": {
  "language_info": {
   "name": "python"
  },
  "orig_nbformat": 4
 },
 "nbformat": 4,
 "nbformat_minor": 2
}
