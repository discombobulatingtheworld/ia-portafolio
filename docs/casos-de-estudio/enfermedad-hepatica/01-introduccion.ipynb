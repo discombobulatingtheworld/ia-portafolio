{
 "cells": [
  {
   "cell_type": "markdown",
   "metadata": {},
   "source": [
    "# Contexto\n",
    "\n",
    "La enfermedad hepática es un problema de salud significativo que afecta a millones de personas en todo el mundo. Se refiere a un grupo de trastornos que impactan la función del hígado, un órgano vital para el procesamiento y filtrado de toxinas del cuerpo. Las causas de enfermedad hepática son diversas e incluyen el consumo excesivo de alcohol, infecciones virales como la hepatitis B y C, enfermedades genéticas, así como la acumulación de grasa en el hígado, conocida como enfermedad del hígado graso no alcohólico (EHGNA). Estas enfermedades hepáticas pueden variar desde condiciones leves y manejables hasta graves, como la cirrosis hepática y el cáncer de hígado.\n",
    "La prevalencia de la enfermedad hepática varía ampliamente según la región y la causa subyacente. Por ejemplo, la EHGNA es una de las formas más comunes de enfermedad hepática en todo el mundo y afecta a una proporción significativa de la población, especialmente en países desarrollados. Las hepatitis virales, como la hepatitis B y C, también son responsables de una carga sustancial de enfermedad hepática, con estimaciones de más de 290 millones de personas que padecen hepatitis B crónica y más de 70 millones con hepatitis C crónica a nivel global. La cirrosis hepática, una complicación grave de muchas enfermedades hepáticas, y el cáncer de hígado son problemas importantes, y las tasas varían según la causa subyacente y la región.\n",
    "La enfermedad hepática tiene un impacto económico y social significativo. Los costos de atención médica asociados con el tratamiento de enfermedades hepáticas pueden ser considerables, especialmente en casos graves que requieren trasplante de hígado o cuidados intensivos. Además, las personas afectadas por enfermedades hepáticas graves a menudo enfrentan una pérdida de productividad, ya que su salud puede impedirles trabajar, lo que a su vez afecta sus ingresos y la economía en general. También hay un estigma social asociado con algunas enfermedades hepáticas, como la hepatitis, que puede afectar la calidad de vida de los pacientes. La enfermedad hepática pone una presión significativa sobre los sistemas de atención médica debido a hospitalizaciones frecuentes y la necesidad de trasplantes de órganos.\n",
    "Además de las causas mencionadas, existen otros factores de riesgo que contribuyen a la enfermedad hepática, como la obesidad, la diabetes, la exposición a sustancias tóxicas en el entorno laboral o la ingesta de ciertos medicamentos. La prevención y la detección temprana son cruciales para reducir la carga de enfermedad hepática. Esto incluye la promoción de la vacunación contra la hepatitis B, la adopción de estilos de vida saludables para evitar la acumulación de grasa en el hígado, así como la implementación de pruebas de detección eficaces para detectar problemas hepáticos en etapas tempranas, lo que puede llevar a un mejor pronóstico y un menor impacto económico y social.\n",
    "\n",
    "## Contenidos\n",
    "\n",
    "1. [Objetivo](../02-objetivo)\n",
    "2. [Datos](../03-datos)\n",
    "3. [Modelado en Python](../04-modelado-python)\n",
    "4. [Análisis de Performance](../05-analisis-performance)"
   ]
  }
 ],
 "metadata": {
  "language_info": {
   "name": "python"
  },
  "orig_nbformat": 4
 },
 "nbformat": 4,
 "nbformat_minor": 2
}
