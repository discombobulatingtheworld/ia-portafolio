{
 "cells": [
  {
   "cell_type": "markdown",
   "metadata": {},
   "source": [
    "# Objetivo\n",
    "\n",
    "El conjunto de datos ILPD (Indian Liver Patient Dataset) tiene como objetivo proporcionar una base sólida para abordar problemas relacionados con la enfermedad hepática mediante el análisis de datos clínicos de pacientes indios. En particular, el conjunto de datos se utiliza comúnmente para tareas de clasificación, donde el principal objetivo es predecir si un paciente tiene una enfermedad hepática o no, basándose en una serie de características médicas y biomédicas proporcionadas.\n",
    "\n",
    "El problema de clasificación en este contexto implica la creación de un modelo predictivo que pueda evaluar la probabilidad de que un individuo presente una enfermedad hepática. Esto es de gran importancia, ya que puede permitir una detección temprana de la enfermedad, lo que a su vez puede llevar a un mejor tratamiento y pronóstico para los pacientes. Además, la capacidad de identificar a aquellos en riesgo de enfermedad hepática puede ayudar a reducir la carga económica y social asociada con la atención médica y la pérdida de productividad."
   ]
  }
 ],
 "metadata": {
  "language_info": {
   "name": "python"
  },
  "orig_nbformat": 4
 },
 "nbformat": 4,
 "nbformat_minor": 2
}
