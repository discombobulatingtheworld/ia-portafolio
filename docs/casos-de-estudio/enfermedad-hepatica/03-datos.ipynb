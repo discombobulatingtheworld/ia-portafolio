{
 "cells": [
  {
   "cell_type": "markdown",
   "metadata": {},
   "source": [
    "## Fuentes de Datos\n",
    "\n",
    "Para llevar a cabo este estudio de caso centrado en la enfermedad hepática, se ha utilizado el conjunto de datos \"ILPD\" (Indian Liver Patient Dataset) (Conjunto de Datos de Pacientes Hepáticos Indios). Este conjunto de datos se encuentra públicamente disponible y constituye una fuente valiosa de información relacionada con la enfermedad hepática, especialmente en la población de origen indio.\n",
    "\n",
    "**Detalles del Conjunto de Datos:**\n",
    "\n",
    "- **Nombre:** ILPD (Indian Liver Patient Dataset)\n",
    "- **Fuente:** Repositorio de Machine Learning UC Irvine\n",
    "- **Enlace de Acceso:** [ILPD (Indian Liver Patient Dataset) en el Repositorio UCI](https://archive.ics.uci.edu/dataset/225/ilpd+indian+liver+patient+dataset)\n",
    "- **Número de Instancias:** 583\n",
    "- **Número de Atributos:** 11 (1 atributo nominal, 10 atributos numéricos)\n",
    "- **Valores Faltantes:** No\n",
    "\n",
    "## Análisis Exploratorio de Datos\n",
    "\n",
    "Este análisis exploratorio proporciona una descripción detallada de cada uno de los atributos presentes en el conjunto de datos \"ILPD\" (Indian Liver Patient Dataset), destacando su importancia, tipo y su posible relevancia en el diagnóstico y la progresión de la enfermedad hepática.\n",
    "\n",
    "1. **Edad (numérico, en años):** La edad es un factor significativo en la enfermedad hepática, ya que ciertas enfermedades hepáticas pueden estar relacionadas con el envejecimiento.\n",
    "2. **Género (nominal):** El género del paciente puede ser relevante en el contexto de la enfermedad hepática, ya que las tasas de enfermedad hepática pueden variar entre hombres y mujeres.\n",
    "3. **Bilirrubina Total (numérico):** La bilirrubina es un marcador importante de la función hepática, y los niveles anormales pueden indicar problemas en el hígado.\n",
    "4. **Bilirrubina Directa (numérico):** La bilirrubina directa es una fracción de la bilirrubina total y también es un indicador de la función hepática.\n",
    "5. **Proteínas Totales (numérico):** Las proteínas totales en suero pueden verse afectadas en casos de enfermedad hepática.\n",
    "6. **Albúmina (numérico):** La albumina es una proteína producida por el hígado, y los niveles bajos pueden ser un indicio de enfermedad hepática.\n",
    "7. **Proporción de Albúmina y Globulina (numérico):** La relación entre la albúmina y la globulina es un indicador adicional de la función hepática.\n",
    "8. **SGPT (numérico):** También conocido como ALT (alanina aminotransferasa), es una enzima hepática. Los niveles elevados pueden indicar daño hepático.\n",
    "9. **SGOT (numérico):** También conocido como AST (aspartato aminotransferasa), es otra enzima hepática. Los niveles elevados pueden ser un signo de daño hepático.\n",
    "10. **Fosfatasa Alcalina (numérico):** La fosfatasa alcalina es una enzima que se encuentra en varios tejidos, incluido el hígado. Los niveles anormales pueden estar relacionados con enfermedad hepática.\n",
    "11. **Clase (numérico):** Esta es la variable objetivo y el foco del análisis. Indica si un paciente tiene una enfermedad hepática (1) o no (2). Esta variable es crucial en las tareas de clasificación para predecir la presencia de enfermedad hepática.\n",
    "\n",
    "## Preprocesamiento de Datos\n",
    "\n",
    "Antes de adentrarnos en las complejidades del preprocesamiento de datos, es fundamental realizar una revisión integral de todos los atributos. Este paso es esencial, ya que sienta las bases para las etapas posteriores del proceso de preparación de datos.\n",
    "\n",
    "### Carga de dataset\n",
    "\n",
    "En este paso, utilizando la librería Pandas, se carga el conjunto de datos de entrenamiento y de prueba desde sus respectivos archivos CSV."
   ]
  },
  {
   "cell_type": "code",
   "execution_count": null,
   "metadata": {},
   "outputs": [],
   "source": [
    "input_file = 'indian_liver_patient.csv'\n",
    "df = pd.read_csv(input_file, header=0)"
   ]
  },
  {
   "cell_type": "markdown",
   "metadata": {},
   "source": [
    "Ahora se identifican los atributos numéricos en el dataset, para luego mediante la función describe() generar estadísticas descriptivas sobre el DataFrame, obteniendo así datos como la media, la mediana, el valor mínimo y máximo, la desviación estándar y los percentiles de cada columna."
   ]
  },
  {
   "cell_type": "code",
   "execution_count": null,
   "metadata": {},
   "outputs": [],
   "source": [
    "types_data = df.dtypes\n",
    "num_values = types_data[(types_data == float) | (types_data == 'int64')]\n",
    "\n",
    "print('These are the numerical features:')\n",
    "print(num_values)"
   ]
  },
  {
   "cell_type": "markdown",
   "metadata": {},
   "source": [
    "![Tipo de datos](../images/liver_data_types.jpg)"
   ]
  },
  {
   "cell_type": "code",
   "execution_count": null,
   "metadata": {},
   "outputs": [],
   "source": [
    "data_describe = df.describe()\n",
    "print(data_describe)"
   ]
  },
  {
   "cell_type": "markdown",
   "metadata": {},
   "source": [
    "![Estadísticas](../images/liver_describe.jpg)"
   ]
  },
  {
   "cell_type": "markdown",
   "metadata": {},
   "source": [
    "## Manejo de Valores Correlacionados\n",
    "\n",
    "Para comprender mejor las relaciones entre los atributos numéricos dentro del conjunto de datos, se realizó un análisis de correlación. Empleando una matriz de correlación, fue posible cuantificar el grado en que pares de atributos están relacionados linealmente."
   ]
  },
  {
   "cell_type": "code",
   "execution_count": null,
   "metadata": {},
   "outputs": [],
   "source": [
    "numeric_data = df.select_dtypes(include='number')\n",
    "correlation_matrix = numeric_data.corr()\n",
    "\n",
    "plt.figure(figsize=(10, 8))\n",
    "sns.heatmap(correlation_matrix, annot=True, cmap='coolwarm')\n",
    "plt.title('Correlation Matrix')\n",
    "plt.show()"
   ]
  },
  {
   "cell_type": "markdown",
   "metadata": {},
   "source": [
    "![Matriz de correlación](../images/liver_corr_matrix.jpg)\n",
    "\n",
    "En el análisis inicial, quedó claro que ciertos atributos podrían no contribuir significativamente al poder predictivo del modelo final. Ciertos atributos muestran fuertes correlaciones con otros, lo que implica preocupaciones de redundancia y posibles problemas de multicolinealidad. Incluir tales atributos puede complicar el modelo sin agregar un valor sustantivo y, en algunos casos, incluso disminuir su capacidad de generalización. Para los fines de este estudio de caso, se considera que una correlación de mayores a 0.6 es fuerte y, por lo tanto, debe manejarse adecuadamente.\n",
    "\n",
    "Por lo tanto, como parte de este análisis preliminar de atributos y selección, se identificó un subconjunto de los atributos que posteriormente se eliminaron del conjunto de datos. Cada eliminación se fundamentó en justificaciones, asegurando que la integridad y el potencial de los datos permanecieran intactos, al tiempo que se eliminaba el ruido o la redundancia potencial. A continuación, se presenta una justificación detallada para la eliminación de cada atributo:\n",
    "\n",
    "- **Bilirrubina Directa:** este atributo está altamente correlacionado con el atributo \"Bilirrubina Total\", mientras que \"Bilirrubina Directa\" se refiere específicamente a la bilirrubina directa en el torrente sanguíneo, \"Bilirrubina Total\" engloba tanto la bilirrubina directa como la indirecta. En el contexto de la evaluación de la función hepática, la bilirrubina total proporciona una visión más completa de los niveles de bilirrubina en sangre. Dado que \"Bilirrubina Total\" proporciona una visión más completa, es aconsejable eliminar el atributo \"Bilirrubina Directa\" del conjunto de datos para evitar redundancias.\n",
    "- **SGOT:** este atributo está altamente correlacionado con el atributo \"SGPT\", ambos son enzimas hepáticas que se utilizan para evaluar la función hepática, y es común que estén relacionados. Sin embargo, en el contexto de la evaluación de la función hepática y la detección de enfermedad hepática, \"SGPT” tiende a ser más específica para el daño hepático, y los niveles elevados de \"SGPT” se asocian con mayor frecuencia con enfermedad hepática. \"SGOT” también puede elevarse en enfermedades hepáticas, pero también puede estar relacionada con afecciones cardíacas y musculares. Además el atributo “SGPT” está correlacionado con el atributo “alkphos”, tienen una correlación en el contexto de la función hepática y la evaluación de enfermedades hepáticas. Ambos atributos son marcadores utilizados en pruebas de laboratorio para evaluar la función hepática, pero cada uno proporciona información ligeramente diferente. Dado que \"SGPT\" es más específica para el daño hepático y además “SGOT” está correlacionado con “Alkphos”, es aconsejable eliminar el atributo \"SGOT\" del conjunto de datos para evitar redundancias y simplificar el análisis.\n",
    "- **A/G_ratio**: este atributo y el atributo \"Albúmina” están relacionados en el contexto de la evaluación de la función hepática y la salud general. La albúmina es una proteína que se encuentra en el suero sanguíneo y es producida por el hígado. La relación Albúmina/Globulina (A/G Ratio) es una medida que compara los niveles de albúmina con los niveles de globulina, que es otro tipo de proteína en el suero sanguíneo. La \"A/G Ratio\" (Relación Albúmina/Globulina) es una medida que compara los niveles de albúmina con los niveles de globulina, y si bien puede proporcionar información útil, generalmente se utiliza en el contexto de una evaluación más amplia de la función hepática y la salud inmunológica. Dado que \"Albumin\" es un marcador específico para la función hepática y es más directamente relevante para la detección de enfermedad hepática, sería preferible considerar este atributo de manera individual para tal propósito.\n",
    "\n",
    "Para eliminar los atributos se utiliza el método drop(), indicándole en los parámetros las etiquetas correspondientes, en el parámetro “axis” se le indica 1, valor que indica eliminar columnas, y en el parámetro “inplace” se le indica “True” para que la eliminación sea en el DataFrame original."
   ]
  },
  {
   "cell_type": "code",
   "execution_count": null,
   "metadata": {},
   "outputs": [],
   "source": [
    "df.drop(labels = ['direct_bilirubin', 'A/G_ratio', 'SGOT'], axis = 1, inplace = True)"
   ]
  },
  {
   "cell_type": "markdown",
   "metadata": {},
   "source": [
    "## Manejo de Valores Atípicos\n",
    "\n",
    "Habiendo completado una limpieza inicial de los datos, ahora estamos trabajando con un conjunto de 8 atributos, además de nuestra clase objetivo. A medida que avanzamos en nuestro análisis de datos, es hora de abordar la presencia de valores atípicos. Los valores atípicos son puntos de datos que se desvían significativamente del resto, y su existencia puede sesgar los análisis estadísticos y los modelos, lo que potencialmente lleva a resultados engañosos. Descuidar el manejo de los valores atípicos puede comprometer la precisión de los modelos predictivos, afectar las suposiciones de las pruebas estadísticas y, en algunos casos, llevar a conclusiones incorrectas. En esta sección, profundizaremos en los métodos empleados para detectar y manejar los valores atípicos, asegurando la integridad y confiabilidad de nuestros análisis posteriores.\n",
    "\n",
    "Con el propósito de detectar posibles valores atípicos en nuestro conjunto de datos, hemos optado por crear un diagrama de pares. Este enfoque gráfico nos brinda la capacidad de explorar de manera integral las interacciones y relaciones existentes entre todos los atributos."
   ]
  },
  {
   "cell_type": "code",
   "execution_count": null,
   "metadata": {},
   "outputs": [],
   "source": [
    "sns.pairplot(df)\n",
    "plt.show()"
   ]
  },
  {
   "cell_type": "markdown",
   "metadata": {},
   "source": [
    "![Pairplot](../images/liver_pairplot.jpg)\n",
    "\n",
    "Al realizar una observación inicial en el diagrama de pares, se destacan indicios de valores atípicos en cuatro atributos particulares. Para una evaluación más detallada y precisa de estos posibles valores atípicos, se opta por crear gráficos de dispersión individuales para cada uno de estos atributos.\n",
    "\n",
    "- **Bilirrubina Total (µmol/L):**"
   ]
  },
  {
   "cell_type": "code",
   "execution_count": null,
   "metadata": {},
   "outputs": [],
   "source": [
    "fig, (ax1, ax2) = plt.subplots(1, 2, figsize=(12, 4))\n",
    "ax1.scatter(x='total_bilirubin', y='total_bilirubin', data=df)\n",
    "ax1.set_title('Total Bilirubin Scatter')\n",
    "ax1.set_xlabel('total_bilirubin')\n",
    "ax1.set_ylabel('total_bilirubin')\n",
    "ax2.hist(df['total_bilirubin'], bins=20)\n",
    "ax2.set_xlabel('total_bilirubin')\n",
    "ax2.set_ylabel('Frequency')\n",
    "ax2.set_title('Total Bilirubin Histogram')\n",
    "plt.show()"
   ]
  },
  {
   "cell_type": "markdown",
   "metadata": {},
   "source": [
    "![Bilirrubina total](../images/liver_total_bilirubin_chart.jpg)\n",
    "\n",
    "- Bajo (0 - 5 µmol/L): Valores bajos pueden indicar deficiencia en la producción de bilirrubina u otras condiciones médicas.\n",
    "- Normal (5 - 20 µmol/L): Valores normales reflejan una función hepática saludable y un metabolismo adecuado.\n",
    "- Alto (20+ µmol/L): Valores altos suelen estar asociados con problemas hepáticos o biliares.\n",
    "\n",
    "Dado que valores superiores a 40 µmol/L se consideran significativamente altos, es importante filtrar todos los valores mayores a 40 para concentrar el análisis y evitar posibles datos erróneos que puedan afectar el modelo.\n",
    "\n",
    "- **Proteínas Totales (mg/L)**:"
   ]
  },
  {
   "cell_type": "code",
   "execution_count": null,
   "metadata": {},
   "outputs": [],
   "source": [
    "fig, (ax1, ax2) = plt.subplots(1, 2, figsize=(12, 4))\n",
    "ax1.scatter(x='total_proteins', y='total_proteins', data=df)\n",
    "ax1.set_title('Total Proteins Scatter')\n",
    "ax1.set_xlabel('total_proteins')\n",
    "ax1.set_ylabel('total_proteins')\n",
    "ax2.hist(df['total_proteins'], bins=20)\n",
    "ax2.set_xlabel('total_proteins')\n",
    "ax2.set_ylabel('Frequency')\n",
    "ax2.set_title('Total Proteins  Histogram')\n",
    "plt.show()"
   ]
  },
  {
   "cell_type": "markdown",
   "metadata": {},
   "source": [
    "![Proteinas totales](../images/liver_total_proteins_chart.jpg)\n",
    "\n",
    "- Bajo (0 - 600 mg/L): Valores bajos pueden indicar una condición médica que afecta la síntesis de proteínas o la función hepática.\n",
    "- Normal (600 - 830 mg/L): Valores normales (mg/L) se consideran dentro del rango saludable para adultos.\n",
    "- Alto (830+ mg/L): Valores altos pueden estar relacionados con condiciones como deshidratación, mieloma múltiple u otras condiciones médicas.\n",
    "\n",
    "Como valores superiores a 830 mg/L pueden indicar condiciones médicas que no están relacionadas con problemas hepáticos, se filtran todos los valores mayores a 830.\n",
    "\n",
    "- **Albúmina**:"
   ]
  },
  {
   "cell_type": "code",
   "execution_count": null,
   "metadata": {},
   "outputs": [],
   "source": [
    "fig, (ax1, ax2) = plt.subplots(1, 2, figsize=(12, 4))\n",
    "ax1.scatter(x='albumin', y='albumin', data=df)\n",
    "ax1.set_title('Albumin Scatter')\n",
    "ax1.set_xlabel('albumin')\n",
    "ax1.set_ylabel('albumin')\n",
    "ax2.hist(df['albumin'], bins=20)\n",
    "ax2.set_xlabel('albumin')\n",
    "ax2.set_ylabel('Frequency')\n",
    "ax2.set_title('Albumin Histogram')\n",
    "plt.show()"
   ]
  },
  {
   "cell_type": "markdown",
   "metadata": {},
   "source": [
    "![Albumina](../images/liver_albumin_chart.jpg)\n",
    "\n",
    "Dado que valores superiores a 600 se consideran significativamente altos y no tienen aporte al problema, es importante filtrar todos los valores mayores a 600 para concentrar el análisis y evitar sesgos que puedan afectar el modelo.\n",
    "\n",
    "- **Fosfatasa Alcalina(U/L)**:"
   ]
  },
  {
   "cell_type": "code",
   "execution_count": null,
   "metadata": {},
   "outputs": [],
   "source": [
    "fig, (ax1, ax2) = plt.subplots(1, 2, figsize=(12, 4))\n",
    "ax1.scatter(x='alkphos', y='alkphos', data=df)\n",
    "ax1.set_title('Alkaline Phosphotase Scatter')\n",
    "ax1.set_xlabel('alkphos')\n",
    "ax1.set_ylabel('alkphos')\n",
    "ax2.hist(df['alkphos'], bins=20)\n",
    "ax2.set_xlabel('alkphos')\n",
    "ax2.set_ylabel('Frequency')\n",
    "ax2.set_title('Alkaline Phosphotase Histogram')\n",
    "plt.show()"
   ]
  },
  {
   "cell_type": "markdown",
   "metadata": {},
   "source": [
    "![Bilirrubina total](../images/liver_alkphos_chart.jpg)\n",
    "\n",
    "- Bajo (0 - 0.5 U/L): Valores bajos, a menudo poco comunes, pueden indicar deficiencia enzimática y afecciones que afectan la producción de fosfatasa alcalina.\n",
    "- Normal (0.5 - 1.2 U/L): Valores normales (U/L) se consideran saludables y reflejan una función enzimática adecuada en el organismo, contribuyendo al metabolismo óseo y hepático.\n",
    "- Alto (1.2+ U/L): Valores altos se asocian con diversas condiciones médicas, incluyendo problemas hepáticos, obstrucción de las vías biliares y enfermedades óseas. Es importante investigar la causa subyacente si se encuentran valores significativamente altos.\n",
    "\n",
    "Como valores superiores a 2.0 U/L se consideran significativamente altos y podrían llegar a ser datos erróneos, se filtran todos los valores mayores a 2.0 para evitar sesgos.\n",
    "\n",
    "Luego de la evaluación aplicamos los filtros correspondientes obteniendo un nuevo conjunto de datos, posteriormente obtenemos los mismos gráficos para visualizar que efectivamente se hayan quitado."
   ]
  },
  {
   "cell_type": "code",
   "execution_count": null,
   "metadata": {},
   "outputs": [],
   "source": [
    "data = df[(df['total_bilirubin'] < 40) & (df['total_proteins'] < 830) & (df['albumin'] < 600) & (df['alkphos'] < 2)]"
   ]
  },
  {
   "cell_type": "markdown",
   "metadata": {},
   "source": [
    "![Gráficos de datos](../images/liver_data_charts.jpg)\n",
    "\n",
    "Después de eliminar los valores atípicos, se redujo el conjunto de datos en 41 registros.\n",
    "\n",
    "## Manejo de Valores Duplicados\n",
    "\n",
    "En esta etapa del preprocesamiento de datos, abordaremos la cuestión de los valores duplicados en el conjunto de datos. Se utiliza la función duplicated() para identificar si existían valores duplicados y se determinó que, efectivamente, se encontraban duplicados."
   ]
  },
  {
   "cell_type": "code",
   "execution_count": null,
   "metadata": {},
   "outputs": [],
   "source": [
    "data.duplicated().any()"
   ]
  },
  {
   "cell_type": "markdown",
   "metadata": {},
   "source": [
    "Tras identificar los valores duplicados, se procede a eliminarlos del dataset mediante el uso de la función drop_duplicates()."
   ]
  },
  {
   "cell_type": "code",
   "execution_count": null,
   "metadata": {},
   "outputs": [],
   "source": [
    "clean_data = data.drop_duplicates()\n",
    "clean_data.duplicated().any()"
   ]
  },
  {
   "cell_type": "markdown",
   "metadata": {},
   "source": [
    "Luego de eliminar los valores duplicados, se borraron 12 registros del conjunto de datos, eliminando así datos redundantes.\n",
    "\n",
    "## División del Dataset\n",
    "\n",
    "La división de un conjunto de datos en características y etiquetas desempeña un papel fundamental, ya que esta separación permite que los modelos aprendan de manera efectiva y generalicen sus predicciones en datos nuevos. Al aislar las características como las variables independientes y las etiquetas como las variables dependientes, se establece una relación clara entre las entradas y las salidas del modelo. Esto facilita el proceso de entrenamiento, ya que el modelo aprende a partir de ejemplos etiquetados, lo que le permite capturar patrones y relaciones en los datos. Esta división también permite el preprocesamiento y la manipulación de características de manera más efectiva, lo que mejora la calidad de las predicciones y la robustez del modelo en diferentes contextos."
   ]
  },
  {
   "cell_type": "code",
   "execution_count": null,
   "metadata": {},
   "outputs": [],
   "source": [
    "X = data.loc[:, data.columns != 'class']\n",
    "y = data['class'].values"
   ]
  },
  {
   "cell_type": "markdown",
   "metadata": {},
   "source": [
    "Antes de realizar alguna acción en los conjuntos, generamos gráficos para los atributos numéricos del conjunto de características y poder observar sus distribuciones."
   ]
  },
  {
   "cell_type": "code",
   "execution_count": null,
   "metadata": {},
   "outputs": [],
   "source": [
    "fig, axes = plt.subplots(3, 2, figsize=(12, 12))\n",
    "\n",
    "for i, columna in enumerate(X.select_dtypes(include='number').columns):\n",
    "    row, col = divmod(i, 2)\n",
    "    sns.distplot(X[columna], kde=True, ax=axes[row, col])\n",
    "    axes[row, col].set_xlabel(columna)\n",
    "    axes[row, col].set_ylabel('Density')\n",
    "\n",
    "plt.tight_layout()\n",
    "plt.show()"
   ]
  },
  {
   "cell_type": "markdown",
   "metadata": {},
   "source": [
    "![Gráficos](../images/liver_distplots.jpg)\n",
    "\n",
    "Observando los gráficos, se puede observar que los atributos presentan sesgo, por lo que podría no ser beneficioso para el modelo. Pero antes atacar este problema, realizaremos algunas acciones previas.\n",
    "\n",
    "## Creación variables ficticias\n",
    "\n",
    "La creación de variables ficticias, también conocidas como variables dummy, es una técnica esencial en el procesamiento de datos categóricos, ya que permite que los algoritmos manejen de manera efectiva esta información y generen modelos más precisos y significativos.\n",
    "\n",
    "Por tal motivo, se realiza la codificación de las variables categóricas utilizando el “LabelEncoder” de Scikit-learn."
   ]
  },
  {
   "cell_type": "code",
   "execution_count": null,
   "metadata": {},
   "outputs": [],
   "source": [
    "le = LabelEncoder()\n",
    "\n",
    "y_encoded = le.fit_transform(y)\n",
    "encoded_gender = le.fit_transform(X['gender'])"
   ]
  },
  {
   "cell_type": "markdown",
   "metadata": {},
   "source": [
    "Después de codificar las variables categóricas, se agregan de nuevo al conjunto de características “X”. Esto se hace para poder utilizar todas las características, incluidas las categóricas codificadas, en el entrenamiento del modelo."
   ]
  },
  {
   "cell_type": "code",
   "execution_count": null,
   "metadata": {},
   "outputs": [],
   "source": [
    "X['gender'] = encoded_gender"
   ]
  },
  {
   "cell_type": "markdown",
   "metadata": {},
   "source": [
    "## Balanceo del Dataset\n",
    "\n",
    "En la etapa de preparación de datos, nos encontramos con un desafío importante: el desequilibrio en la variable objetivo del dataset. La desigual distribución de las clases en la variable objetivo es una situación común en muchos conjuntos de datos."
   ]
  },
  {
   "cell_type": "code",
   "execution_count": null,
   "metadata": {},
   "outputs": [],
   "source": [
    "sns.countplot(x='class', data=df)\n",
    "plt.show()"
   ]
  },
  {
   "cell_type": "markdown",
   "metadata": {},
   "source": [
    "![Conteo de clases](../images/liver_class_count.jpg)\n",
    "\n",
    "Se observa que el dataset contiene registros de 416 pacientes diagnosticados con enfermedad hepática (1) y 167 pacientes sin enfermedad hepática (2). Esto equivale al 71% de los registros correspondientes a la clase positiva (con enfermedad hepática) y al 29% a la clase negativa (sin enfermedad hepática).\n",
    "\n",
    "Este desequilibrio en las clases puede presentar un problema importante al entrenar modelos de aprendizaje automático, ya que el modelo podría volverse sesgado hacia la clase mayoritaria y no aprender de manera efectiva las características de la clase minoritaria. En el contexto de la detección de enfermedad hepática, es crucial que nuestro modelo pueda identificar con precisión tanto los casos positivos como los negativos, para garantizar un diagnóstico adecuado.\n",
    "\n",
    "Para abordar este desequilibrio, se aplicará la técnica SMOTE (Synthetic Minority Over-sampling Technique). SMOTE es una técnica de sobremuestreo que se utiliza para generar muestras sintéticas de la clase minoritaria, equilibrando así la distribución de clases en el dataset. Esta técnica nos permite crear instancias artificiales de la clase minoritaria, lo que mejora la capacidad del modelo para aprender patrones en ambas clases de manera equitativa y proporcionar una mayor precisión en la detección de la enfermedad hepática.\n",
    "\n",
    "Con la implementación de la función “SMOTE” de la librería “imbalanced-learn”, se logrará una distribución más equitativa de las clases, garantizando que el modelo pueda ofrecer predicciones precisas para ambas condiciones de enfermedad hepática."
   ]
  },
  {
   "cell_type": "code",
   "execution_count": null,
   "metadata": {},
   "outputs": [],
   "source": [
    "sm = SMOTE(sampling_strategy='auto', k_neighbors=5, random_state=100)\n",
    "X_resample, y_resample = sm.fit_resample(X, y_encoded)\n",
    "\n",
    "X_train = pd.DataFrame(X_resample, columns=X.columns)\n",
    "y_resample_df = pd.DataFrame({'class': y_resample})\n",
    "\n",
    "sns.countplot(x='class', data=y_resample_df)\n",
    "plt.show()"
   ]
  },
  {
   "cell_type": "markdown",
   "metadata": {},
   "source": [
    "![Conteo de clases](../images/liver_class_count_smote.jpg)\n",
    "\n",
    "Ahora, tras aplicar el proceso de balanceo del conjunto de datos, hemos logrado equilibrar las clases. Esta estrategia de balanceo antes de la normalización es beneficiosa, ya que no solo garantiza que las clases minoritarias tengan una representación adecuada, sino que también preserva la integridad de nuestras características al evitar que los valores extremos en las clases minoritarias distorsionen el proceso de normalización. \n",
    "\n",
    "Antes de normalizar, mencionemos el fenómeno de “contaminación por normalización\", este se refiere a la posibilidad de que la normalización de datos se realice incorrectamente, lo que puede llevar a una fuga de información desde el conjunto de prueba al conjunto de entrenamiento.\n",
    "\n",
    "Para mitigar este riesgo es recomendable normalizar luego de dividir el conjunto de datos, normalizando así los conjuntos de entrenamiento y prueba por separado."
   ]
  },
  {
   "cell_type": "code",
   "execution_count": null,
   "metadata": {},
   "outputs": [],
   "source": [
    "train_X, test_X, train_y, test_y = train_test_split(X_train, y_resample, test_size=0.30, random_state=0, shuffle=True)"
   ]
  },
  {
   "cell_type": "markdown",
   "metadata": {},
   "source": [
    "## Normalización\n",
    "\n",
    "La normalización es un paso fundamental en el preprocesamiento de datos. Consiste en transformar los datos para que estén en una escala común, lo que facilita la comparación y el procesamiento de las características. La normalización es particularmente importante cuando las variables en un conjunto de datos tienen escalas muy diferentes, ya que algunas características pueden dominar sobre otras durante el entrenamiento del modelo.\n",
    "\n",
    "Para normalizar los atributos utilizaremos el “StandardScaler” de Scikit-learn. Los atributos se organizaron en arreglos numpy y se reformatearon utilizando el método \"reshape\" con el argumento (-1, 1). Esta operación de reformateo es esencial para asegurar que los datos tengan la estructura adecuada para el escalado.\n",
    "\n",
    "Luego, se aplicó “fit_transform” a cada atributo por separado y reemplazando estos valores normalizados en las respectivas columnas del conjunto de datos original."
   ]
  },
  {
   "cell_type": "code",
   "execution_count": null,
   "metadata": {},
   "outputs": [],
   "source": [
    "scaler = StandardScaler()\n",
    "\n",
    "age_train = np.array(train_X['age']).reshape(-1, 1)\n",
    "total_bilirubin_train = np.array(train_X['total_bilirubin']).reshape(-1, 1)\n",
    "total_proteins_train = np.array(train_X['total_proteins']).reshape(-1, 1)\n",
    "albumin_train = np.array(train_X['albumin']).reshape(-1, 1)\n",
    "sgpt_train = np.array(train_X['SGPT']).reshape(-1, 1)\n",
    "alkphos_train = np.array(train_X['alkphos']).reshape(-1, 1)\n",
    "age_test = np.array(test_X['age']).reshape(-1, 1)\n",
    "total_bilirubin_test = np.array(test_X['total_bilirubin']).reshape(-1, 1)\n",
    "total_proteins_test = np.array(test_X['total_proteins']).reshape(-1, 1)\n",
    "albumin_test = np.array(test_X['albumin']).reshape(-1, 1)\n",
    "sgpt_test = np.array(test_X['SGPT']).reshape(-1, 1)\n",
    "alkphos_test = np.array(test_X['alkphos']).reshape(-1, 1)\n",
    "\n",
    "train_X['age'] = scaler.fit_transform(age_train)\n",
    "train_X['total_bilirubin'] = scaler.fit_transform(total_bilirubin_train)\n",
    "train_X['total_proteins'] = scaler.fit_transform(total_proteins_train)\n",
    "train_X['albumin'] = scaler.fit_transform(albumin_train)\n",
    "train_X['SGPT'] = scaler.fit_transform(sgpt_train)\n",
    "train_X['alkphos'] = scaler.fit_transform(alkphos_train)\n",
    "test_X['age'] = scaler.fit_transform(age_test)\n",
    "test_X['total_bilirubin'] = scaler.fit_transform(total_bilirubin_test)\n",
    "test_X['total_proteins'] = scaler.fit_transform(total_proteins_test)\n",
    "test_X['albumin'] = scaler.fit_transform(albumin_test)\n",
    "test_X['SGPT'] = scaler.fit_transform(sgpt_test)\n",
    "test_X['alkphos'] = scaler.fit_transform(alkphos_test)"
   ]
  },
  {
   "cell_type": "code",
   "execution_count": null,
   "metadata": {},
   "outputs": [],
   "source": [
    "print(train_X.head())\n",
    "print(test_X.head())"
   ]
  },
  {
   "cell_type": "markdown",
   "metadata": {},
   "source": [
    "![Datos](../images/liver_test_train_head.jpg)"
   ]
  }
 ],
 "metadata": {
  "language_info": {
   "name": "python"
  },
  "orig_nbformat": 4
 },
 "nbformat": 4,
 "nbformat_minor": 2
}
