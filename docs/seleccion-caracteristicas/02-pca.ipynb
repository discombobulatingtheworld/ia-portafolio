{
 "cells": [
  {
   "cell_type": "markdown",
   "metadata": {},
   "source": [
    "# Análisis de Componentes Principales (PCA)\n",
    "\n",
    "El análisis de componentes principales (PCA) es una técnica importante en estadísticas y análisis de datos que se utiliza para reducir la dimensionalidad de un conjunto de datos y resaltar las variables que explican la mayor parte de la variación en los datos. A continuación, se presenta un resumen detallado de los puntos clave en el texto que proporcionaste:\n",
    "\n",
    "1. **Introducción a PCA:**\n",
    "    - PCA se utiliza para responder a la pregunta de qué atributos de un conjunto de datos explican una cantidad significativa de su variación.\n",
    "    - La idea principal es encontrar un pequeño subconjunto de atributos que pueda explicar el 80% o más de la variación en los datos.\n",
    "  \n",
    "2. **Propiedades de los Componentes Principales:**\n",
    "    - PCA transforma las variables originales en un conjunto de \"componentes principales\" con las siguientes propiedades:\n",
    "        - No están correlacionados entre sí.\n",
    "        - Explican una gran cantidad de la varianza en los datos.\n",
    "        - Se pueden relacionar de nuevo con las variables originales a través de factores de ponderación.\n",
    "    - Las variables originales con factores de ponderación bajos en los componentes principales se eliminan del conjunto de datos.\n",
    "\n",
    "## Funcionamiento de PCA\n",
    "\n",
    "El Análisis de Componentes Principales (PCA) es un proceso matemático que se utiliza para reducir la dimensionalidad de un conjunto de datos, manteniendo la mayor cantidad posible de la información original. A continuación, se describe cómo funciona PCA y cómo se calcula:\n",
    "\n",
    "1. **Centrar los datos:**\n",
    "    - El primer paso en PCA es centrar los datos, es decir, restar la media de cada característica a todos los puntos de datos. Esto es importante para eliminar el sesgo en los datos y asegurarse de que el nuevo sistema de coordenadas esté alineado con la media de los datos.\n",
    "  \n",
    "2. **Calcular la matriz de covarianza:**\n",
    "    - Una vez que los datos se han centrado, se calcula la matriz de covarianza. La matriz de covarianza es una matriz cuadrada que muestra cómo las características del conjunto de datos están relacionadas entre sí. Los elementos de la matriz de covarianza miden las covarianzas entre todas las combinaciones de características.\n",
    "  \n",
    "3. **Calcular los autovalores y autovectores:**\n",
    "    - A continuación, se calculan los autovalores y autovectores de la matriz de covarianza. Los autovectores representan las direcciones principales en las que varían los datos, y los autovalores indican la magnitud de la varianza a lo largo de esas direcciones. Los autovectores se ordenan de mayor a menor en función de sus autovalores correspondientes.\n",
    "  \n",
    "4. **Selección de componentes principales:**\n",
    "    - Después de calcular los autovectores, puedes seleccionar un subconjunto de ellos como tus componentes principales. La cantidad de componentes principales que elijas determinará la dimensionalidad reducida de tus datos. La elección suele basarse en la cantidad de varianza que deseas retener en tus datos reducidos. Por ejemplo, si seleccionas los primeros k autovectores, retendrás aproximadamente el 1 - (suma de los k autovalores más pequeños) / (suma de todos los autovalores) de la varianza original.\n",
    "  \n",
    "5. **Proyección de datos:**\n",
    "    - Finalmente, puedes proyectar tus datos originales en el espacio definido por los autovectores seleccionados como componentes principales. Esto crea una representación de tus datos en un espacio de dimensionalidad reducida."
   ]
  }
 ],
 "metadata": {
  "language_info": {
   "name": "python"
  },
  "orig_nbformat": 4
 },
 "nbformat": 4,
 "nbformat_minor": 2
}
