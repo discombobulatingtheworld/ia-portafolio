{
 "cells": [
  {
   "cell_type": "markdown",
   "metadata": {},
   "source": [
    "Introducción\n",
    "============\n",
    "\n",
    "El capítulo se enfoca en la selección de características, un componente crucial en la preparación de conjuntos de datos para el análisis predictivo. Se aborda la importancia de este proceso y se distinguen dos tipos de enfoques para la selección de características: el enfoque de filtro y el enfoque de envoltura.\n",
    "\n",
    "## Contenidos\n",
    "\n",
    "1. [Selección de Características](../01-seleccion-caracteristicas)\n",
    "2. [Análisis de Componentes Principales](../02-pca)"
   ]
  }
 ],
 "metadata": {
  "language_info": {
   "name": "python"
  },
  "orig_nbformat": 4
 },
 "nbformat": 4,
 "nbformat_minor": 2
}
