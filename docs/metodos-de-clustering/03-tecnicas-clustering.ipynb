{
 "cells": [
  {
   "cell_type": "markdown",
   "metadata": {},
   "source": [
    "# Tipos de técnicas de clustering\n",
    "\n",
    "La tarea de minería de datos de la agrupación busca encontrar grupos en los datos de tal manera que los puntos de datos dentro de un clúster sean más \"similares\" entre sí que los puntos de datos en otros clústeres. Los tipos de clústeres pueden ser:\n",
    "\n",
    "- **Clústeres exclusivos o de partición estricta:** Cada objeto de datos pertenece a un clúster exclusivo.\n",
    "- **Clústeres superpuestos:** Los grupos de clústeres no son exclusivos y cada objeto de datos puede pertenecer a más de un clúster. También se conocen como clústeres de múltiples vistas.\n",
    "- **Clústeres jerárquicos:** Cada clúster hijo puede fusionarse para formar un clúster padre.\n",
    "- **Clústeres Difusos o Probabilísticos:** Cada punto de datos pertenece a todos los grupos de clúster con grados variables de membresía de 0 a 1.\n",
    "  \n",
    "Las técnicas de agrupación se clasifican en:\n",
    "\n",
    "- Agrupación basada en prototipos.\n",
    "- Agrupación por densidad.\n",
    "- Agrupación jerárquica.\n",
    "- Agrupación basada en modelos."
   ]
  }
 ],
 "metadata": {
  "language_info": {
   "name": "python"
  },
  "orig_nbformat": 4
 },
 "nbformat": 4,
 "nbformat_minor": 2
}
