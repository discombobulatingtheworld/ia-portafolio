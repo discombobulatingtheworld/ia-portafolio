{
 "cells": [
  {
   "cell_type": "markdown",
   "metadata": {},
   "source": [
    "Introducción\n",
    "============\n",
    "\n",
    "La agrupación es el proceso de encontrar grupos significativos en los datos. En la agrupación, el objetivo no es predecir una variable de clase objetivo, sino simplemente capturar las posibles agrupaciones naturales en los datos. Por ejemplo, los clientes de una empresa pueden agruparse en función del comportamiento de compra. En los últimos años, la agrupación incluso ha encontrado su uso en las elecciones políticas (Pearson y Cooper, 2012). Los votantes electorales prospectivos pueden agruparse en diferentes grupos para que los candidatos puedan adaptar los mensajes para resonar dentro de cada grupo.\n",
    "\n",
    "La agrupación se puede utilizar en dos clases diferentes de aplicaciones: para describir un conjunto de datos dado y como un paso de preprocesamiento para otros algoritmos predictivos.\n",
    "\n",
    "## Contenidos\n",
    "\n",
    "1. [Clustering para describir los datos](../01-clustering-datos)\n",
    "2. [Clustering para preprocesamiento](../02-clustering-preprocesamiento)\n",
    "3. [Tipos de técnicas de clustering](../03-tecnicas-clustering)\n",
    "4. [Clustering K-Means](../04-clustering-kmeans)\n",
    "5. [Clustering DBSCAN](../05-clustering-dbscan)\n",
    "6. [Clustering Jerárquico](../06-clustering-jerarquico)"
   ]
  }
 ],
 "metadata": {
  "language_info": {
   "name": "python"
  },
  "orig_nbformat": 4
 },
 "nbformat": 4,
 "nbformat_minor": 2
}
