{
 "cells": [
  {
   "cell_type": "markdown",
   "metadata": {},
   "source": [
    "# Clustering para preprocesamiento\n",
    "\n",
    "Dado que los procesos de agrupación consideran todos los atributos del conjunto de datos y \"reducen\" la información a un clúster, que es realmente otro atributo (es decir, el ID del clúster al que pertenecería un registro), la agrupación se puede utilizar como una técnica de compresión de datos. La agrupación se puede utilizar para dos tipos de preprocesamiento:\n",
    "\n",
    "1. **Agrupación para reducir la dimensionalidad:** Con la agrupación, los atributos de n dimensiones se pueden convertir o reducir a un atributo categórico: \"ID del clúster\". Esto reduce la complejidad, aunque habrá alguna pérdida de información debido a la reducción de la dimensionalidad a un solo atributo.\n",
    "\n",
    "2. **Agrupación para reducir objetos:** Reducir millones de registros de clientes a 100 registros prototipo proporciona un beneficio obvio. Para algunas aplicaciones, en lugar de procesar millones de registros, podemos procesar solo los prototipos para tareas posteriores de clasificación o regresión. Esto reduce considerablemente la cantidad de objetos de registro y se puede utilizar en algoritmos como k-NN, donde la complejidad de cálculo depende del número de registros."
   ]
  }
 ],
 "metadata": {
  "language_info": {
   "name": "python"
  },
  "orig_nbformat": 4
 },
 "nbformat": 4,
 "nbformat_minor": 2
}
