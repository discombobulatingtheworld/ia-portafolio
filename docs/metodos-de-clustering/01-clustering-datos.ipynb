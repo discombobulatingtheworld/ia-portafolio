{
 "cells": [
  {
   "cell_type": "markdown",
   "metadata": {},
   "source": [
    "# Clustering para describir los datos\n",
    "\n",
    "La aplicación más común de la agrupación es explorar los datos y encontrar todos los grupos significativos posibles en los datos. Dependiendo de la técnica de agrupación utilizada, el número de grupos o clústeres puede ser definido por el usuario o determinado automáticamente por el algoritmo. Algunas de las aplicaciones comunes de la agrupación para describir la estructura natural subyacente de los datos son:\n",
    "\n",
    "1. **Marketing:** Encontrar grupos comunes de clientes en función de todos los comportamientos pasados de los clientes, atributos de los posibles clientes y patrones de compra. Esta tarea es útil para segmentar a los clientes, identificar clientes prototipo (descripción de un cliente típico de un grupo) y adaptar un mensaje de marketing a los clientes en un grupo.\n",
    "   \n",
    "2. **Agrupación de documentos:** Una de las tareas comunes de minería de texto es agrupar automáticamente los documentos (o fragmentos de texto) en grupos de temas similares. La agrupación de documentos proporciona una forma de identificar temas clave, comprender y resumir estos grupos de documentos en lugar de leer los documentos completos. La agrupación de documentos se utiliza para enrutar incidentes de soporte al cliente, sitios de contenido en línea, investigaciones forenses, etc.\n",
    "   \n",
    "3. **Agrupación de sesiones:** En la analítica web, la agrupación es útil para comprender grupos de patrones de clics y descubrir diferentes tipos de perfiles de patrones de clics. La agrupación de las sesiones web por perfil ayuda a una empresa de comercio electrónico a proporcionar funciones que se adapten a cada perfil de cliente."
   ]
  }
 ],
 "metadata": {
  "language_info": {
   "name": "python"
  },
  "orig_nbformat": 4
 },
 "nbformat": 4,
 "nbformat_minor": 2
}
